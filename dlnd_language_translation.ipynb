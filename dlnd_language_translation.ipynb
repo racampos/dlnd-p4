{
 "cells": [
  {
   "cell_type": "markdown",
   "metadata": {
    "collapsed": true,
    "deletable": true,
    "editable": true
   },
   "source": [
    "# Language Translation\n",
    "In this project, you’re going to take a peek into the realm of neural network machine translation.  You’ll be training a sequence to sequence model on a dataset of English and French sentences that can translate new sentences from English to French.\n",
    "## Get the Data\n",
    "Since translating the whole language of English to French will take lots of time to train, we have provided you with a small portion of the English corpus."
   ]
  },
  {
   "cell_type": "code",
   "execution_count": 1,
   "metadata": {
    "collapsed": true,
    "deletable": true,
    "editable": true
   },
   "outputs": [],
   "source": [
    "\"\"\"\n",
    "DON'T MODIFY ANYTHING IN THIS CELL\n",
    "\"\"\"\n",
    "import helper\n",
    "import problem_unittests as tests\n",
    "\n",
    "source_path = 'data/small_vocab_en'\n",
    "target_path = 'data/small_vocab_fr'\n",
    "source_text = helper.load_data(source_path)\n",
    "target_text = helper.load_data(target_path)"
   ]
  },
  {
   "cell_type": "markdown",
   "metadata": {
    "deletable": true,
    "editable": true
   },
   "source": [
    "## Explore the Data\n",
    "Play around with view_sentence_range to view different parts of the data."
   ]
  },
  {
   "cell_type": "code",
   "execution_count": 2,
   "metadata": {
    "collapsed": false,
    "deletable": true,
    "editable": true
   },
   "outputs": [
    {
     "name": "stdout",
     "output_type": "stream",
     "text": [
      "Dataset Stats\n",
      "Roughly the number of unique words: 227\n",
      "Number of sentences: 137861\n",
      "Average number of words in a sentence: 13.225277634719028\n",
      "\n",
      "English sentences 90 to 100:\n",
      "california is never busy during february , and it is usually hot in june .\n",
      "the united states is sometimes beautiful during november , and it is never rainy in march .\n",
      "new jersey is sometimes hot during march , and it is beautiful in fall .\n",
      "the grapefruit is our least favorite fruit , but the orange is your least favorite .\n",
      "i like grapefruit , limes , and pears .\n",
      "she dislikes lemons , strawberries , and grapes .\n",
      "paris is usually chilly during fall , but it is sometimes rainy in july .\n",
      "she likes mangoes , apples , and bananas .\n",
      "she is driving the old yellow truck .\n",
      "we like peaches , mangoes , and oranges .\n",
      "\n",
      "French sentences 90 to 100:\n",
      "california est jamais occupé en février , et il est généralement chaud en juin .\n",
      "les états-unis est parfois belle au mois de novembre , et il est jamais pluvieux en mars .\n",
      "new jersey est parfois chaud en mars , et il est beau à l' automne .\n",
      "le pamplemousse est notre fruit préféré moins , mais l'orange est votre préféré moins .\n",
      "i comme le pamplemousse , citrons verts , et les poires .\n",
      "elle déteste les citrons , les fraises et les raisins .\n",
      "paris est généralement froid à l'automne , mais il est parfois pluvieux en juillet .\n",
      "elle aime les mangues , les pommes et les bananes .\n",
      "elle conduit le vieux camion jaune .\n",
      "nous aimons les pêches , les mangues et les oranges .\n"
     ]
    }
   ],
   "source": [
    "view_sentence_range = (90, 100)\n",
    "\n",
    "\"\"\"\n",
    "DON'T MODIFY ANYTHING IN THIS CELL\n",
    "\"\"\"\n",
    "import numpy as np\n",
    "\n",
    "print('Dataset Stats')\n",
    "print('Roughly the number of unique words: {}'.format(len({word: None for word in source_text.split()})))\n",
    "\n",
    "sentences = source_text.split('\\n')\n",
    "word_counts = [len(sentence.split()) for sentence in sentences]\n",
    "print('Number of sentences: {}'.format(len(sentences)))\n",
    "print('Average number of words in a sentence: {}'.format(np.average(word_counts)))\n",
    "\n",
    "print()\n",
    "print('English sentences {} to {}:'.format(*view_sentence_range))\n",
    "print('\\n'.join(source_text.split('\\n')[view_sentence_range[0]:view_sentence_range[1]]))\n",
    "print()\n",
    "print('French sentences {} to {}:'.format(*view_sentence_range))\n",
    "print('\\n'.join(target_text.split('\\n')[view_sentence_range[0]:view_sentence_range[1]]))"
   ]
  },
  {
   "cell_type": "markdown",
   "metadata": {
    "deletable": true,
    "editable": true
   },
   "source": [
    "## Implement Preprocessing Function\n",
    "### Text to Word Ids\n",
    "As you did with other RNNs, you must turn the text into a number so the computer can understand it. In the function `text_to_ids()`, you'll turn `source_text` and `target_text` from words to ids.  However, you need to add the `<EOS>` word id at the end of `target_text`.  This will help the neural network predict when the sentence should end.\n",
    "\n",
    "You can get the `<EOS>` word id by doing:\n",
    "```python\n",
    "target_vocab_to_int['<EOS>']\n",
    "```\n",
    "You can get other word ids using `source_vocab_to_int` and `target_vocab_to_int`."
   ]
  },
  {
   "cell_type": "code",
   "execution_count": 3,
   "metadata": {
    "collapsed": false,
    "deletable": true,
    "editable": true
   },
   "outputs": [
    {
     "name": "stdout",
     "output_type": "stream",
     "text": [
      "Tests Passed\n"
     ]
    }
   ],
   "source": [
    "def text_to_ids(source_text, target_text, source_vocab_to_int, target_vocab_to_int):\n",
    "    \"\"\"\n",
    "    Convert source and target text to proper word ids\n",
    "    :param source_text: String that contains all the source text.\n",
    "    :param target_text: String that contains all the target text.\n",
    "    :param source_vocab_to_int: Dictionary to go from the source words to an id\n",
    "    :param target_vocab_to_int: Dictionary to go from the target words to an id\n",
    "    :return: A tuple of lists (source_id_text, target_id_text)\n",
    "    \"\"\"\n",
    "    # TODO: Implement Function\n",
    "    \n",
    "    source_text = source_text.split(\"\\n\")\n",
    "    source_id_text = []\n",
    "    for sentence in source_text:\n",
    "        new_sentence = []\n",
    "        for word in sentence.split():\n",
    "            new_sentence.append(source_vocab_to_int[word])\n",
    "        source_id_text.append(new_sentence)\n",
    "    \n",
    "    target_text = target_text.split(\"\\n\")\n",
    "    target_id_text = []\n",
    "    for sentence in target_text:\n",
    "        sentence = sentence + \" <EOS>\"\n",
    "        new_sentence = []\n",
    "        for word in sentence.split():\n",
    "            new_sentence.append(target_vocab_to_int[word])\n",
    "        target_id_text.append(new_sentence)\n",
    "    \n",
    "    return (source_id_text, target_id_text)\n",
    "\n",
    "\"\"\"\n",
    "DON'T MODIFY ANYTHING IN THIS CELL THAT IS BELOW THIS LINE\n",
    "\"\"\"\n",
    "tests.test_text_to_ids(text_to_ids)"
   ]
  },
  {
   "cell_type": "markdown",
   "metadata": {
    "deletable": true,
    "editable": true
   },
   "source": [
    "### Preprocess all the data and save it\n",
    "Running the code cell below will preprocess all the data and save it to file."
   ]
  },
  {
   "cell_type": "code",
   "execution_count": 4,
   "metadata": {
    "collapsed": false,
    "deletable": true,
    "editable": true
   },
   "outputs": [],
   "source": [
    "\"\"\"\n",
    "DON'T MODIFY ANYTHING IN THIS CELL\n",
    "\"\"\"\n",
    "helper.preprocess_and_save_data(source_path, target_path, text_to_ids)"
   ]
  },
  {
   "cell_type": "markdown",
   "metadata": {
    "deletable": true,
    "editable": true
   },
   "source": [
    "# Check Point\n",
    "This is your first checkpoint. If you ever decide to come back to this notebook or have to restart the notebook, you can start from here. The preprocessed data has been saved to disk."
   ]
  },
  {
   "cell_type": "code",
   "execution_count": 5,
   "metadata": {
    "collapsed": true,
    "deletable": true,
    "editable": true
   },
   "outputs": [],
   "source": [
    "\"\"\"\n",
    "DON'T MODIFY ANYTHING IN THIS CELL\n",
    "\"\"\"\n",
    "import numpy as np\n",
    "import helper\n",
    "\n",
    "(source_int_text, target_int_text), (source_vocab_to_int, target_vocab_to_int), _ = helper.load_preprocess()"
   ]
  },
  {
   "cell_type": "markdown",
   "metadata": {
    "deletable": true,
    "editable": true
   },
   "source": [
    "### Check the Version of TensorFlow and Access to GPU\n",
    "This will check to make sure you have the correct version of TensorFlow and access to a GPU"
   ]
  },
  {
   "cell_type": "code",
   "execution_count": 6,
   "metadata": {
    "collapsed": false,
    "deletable": true,
    "editable": true
   },
   "outputs": [
    {
     "name": "stdout",
     "output_type": "stream",
     "text": [
      "TensorFlow Version: 1.1.0\n",
      "Default GPU Device: /gpu:0\n"
     ]
    }
   ],
   "source": [
    "\"\"\"\n",
    "DON'T MODIFY ANYTHING IN THIS CELL\n",
    "\"\"\"\n",
    "from distutils.version import LooseVersion\n",
    "import warnings\n",
    "import tensorflow as tf\n",
    "from tensorflow.python.layers.core import Dense\n",
    "\n",
    "# Check TensorFlow Version\n",
    "assert LooseVersion(tf.__version__) >= LooseVersion('1.1'), 'Please use TensorFlow version 1.1 or newer'\n",
    "print('TensorFlow Version: {}'.format(tf.__version__))\n",
    "\n",
    "# Check for a GPU\n",
    "if not tf.test.gpu_device_name():\n",
    "    warnings.warn('No GPU found. Please use a GPU to train your neural network.')\n",
    "else:\n",
    "    print('Default GPU Device: {}'.format(tf.test.gpu_device_name()))"
   ]
  },
  {
   "cell_type": "markdown",
   "metadata": {
    "deletable": true,
    "editable": true
   },
   "source": [
    "## Build the Neural Network\n",
    "You'll build the components necessary to build a Sequence-to-Sequence model by implementing the following functions below:\n",
    "- `model_inputs`\n",
    "- `process_decoder_input`\n",
    "- `encoding_layer`\n",
    "- `decoding_layer_train`\n",
    "- `decoding_layer_infer`\n",
    "- `decoding_layer`\n",
    "- `seq2seq_model`\n",
    "\n",
    "### Input\n",
    "Implement the `model_inputs()` function to create TF Placeholders for the Neural Network. It should create the following placeholders:\n",
    "\n",
    "- Input text placeholder named \"input\" using the TF Placeholder name parameter with rank 2.\n",
    "- Targets placeholder with rank 2.\n",
    "- Learning rate placeholder with rank 0.\n",
    "- Keep probability placeholder named \"keep_prob\" using the TF Placeholder name parameter with rank 0.\n",
    "- Target sequence length placeholder named \"target_sequence_length\" with rank 1\n",
    "- Max target sequence length tensor named \"max_target_len\" getting its value from applying tf.reduce_max on the target_sequence_length placeholder. Rank 0.\n",
    "- Source sequence length placeholder named \"source_sequence_length\" with rank 1\n",
    "\n",
    "Return the placeholders in the following the tuple (input, targets, learning rate, keep probability, target sequence length, max target sequence length, source sequence length)"
   ]
  },
  {
   "cell_type": "code",
   "execution_count": 7,
   "metadata": {
    "collapsed": false,
    "deletable": true,
    "editable": true
   },
   "outputs": [
    {
     "name": "stdout",
     "output_type": "stream",
     "text": [
      "Tests Passed\n"
     ]
    }
   ],
   "source": [
    "def model_inputs():\n",
    "    \"\"\"\n",
    "    Create TF Placeholders for input, targets, learning rate, and lengths of source and target sequences.\n",
    "    :return: Tuple (input, targets, learning rate, keep probability, target sequence length,\n",
    "    max target sequence length, source sequence length)\n",
    "    \"\"\"\n",
    "    # TODO: Implement Function\n",
    "    \n",
    "    inputs = tf.placeholder(tf.int32, [None, None], name='input')\n",
    "    targets = tf.placeholder(tf.int32, [None, None], name='target')\n",
    "    learning_rate = tf.placeholder(tf.float32, name=\"learning_rate\")\n",
    "    keep_probability = tf.placeholder(tf.float32, name=\"keep_prob\")\n",
    "    target_sequence_length = tf.placeholder(tf.int32, [None], name=\"target_sequence_length\")\n",
    "    max_target_sequence_length =  tf.reduce_max(target_sequence_length, name=\"max_target_len\")\n",
    "    source_sequence_length = tf.placeholder(tf.int32, [None], name=\"source_sequence_length\")\n",
    "    \n",
    "    return (inputs, targets, learning_rate, keep_probability, target_sequence_length,\n",
    "    max_target_sequence_length, source_sequence_length)\n",
    "\n",
    "\n",
    "\"\"\"\n",
    "DON'T MODIFY ANYTHING IN THIS CELL THAT IS BELOW THIS LINE\n",
    "\"\"\"\n",
    "tests.test_model_inputs(model_inputs)"
   ]
  },
  {
   "cell_type": "markdown",
   "metadata": {
    "deletable": true,
    "editable": true
   },
   "source": [
    "### Process Decoder Input\n",
    "Implement `process_decoder_input` by removing the last word id from each batch in `target_data` and concat the GO ID to the begining of each batch."
   ]
  },
  {
   "cell_type": "code",
   "execution_count": 8,
   "metadata": {
    "collapsed": false,
    "deletable": true,
    "editable": true
   },
   "outputs": [
    {
     "name": "stdout",
     "output_type": "stream",
     "text": [
      "Tests Passed\n"
     ]
    }
   ],
   "source": [
    "def process_decoder_input(target_data, target_vocab_to_int, batch_size):\n",
    "    \"\"\"\n",
    "    Preprocess target data for encoding\n",
    "    :param target_data: Target Placehoder\n",
    "    :param target_vocab_to_int: Dictionary to go from the target words to an id\n",
    "    :param batch_size: Batch Size\n",
    "    :return: Preprocessed target data\n",
    "    \"\"\"\n",
    "    # TODO: Implement Function\n",
    "    #go = source_vocab_to_int['<GO>']\n",
    "    go = target_vocab_to_int['<GO>']\n",
    "    ending = tf.strided_slice(target_data, [0, 0], [batch_size, -1], [1, 1])\n",
    "    decoded = tf.concat([tf.fill([batch_size, 1], go), ending], 1)\n",
    "    return decoded\n",
    "\n",
    "\"\"\"\n",
    "DON'T MODIFY ANYTHING IN THIS CELL THAT IS BELOW THIS LINE\n",
    "\"\"\"\n",
    "tests.test_process_encoding_input(process_decoder_input)"
   ]
  },
  {
   "cell_type": "markdown",
   "metadata": {
    "deletable": true,
    "editable": true
   },
   "source": [
    "### Encoding\n",
    "Implement `encoding_layer()` to create a Encoder RNN layer:\n",
    " * Embed the encoder input using [`tf.contrib.layers.embed_sequence`](https://www.tensorflow.org/api_docs/python/tf/contrib/layers/embed_sequence)\n",
    " * Construct a [stacked](https://github.com/tensorflow/tensorflow/blob/6947f65a374ebf29e74bb71e36fd82760056d82c/tensorflow/docs_src/tutorials/recurrent.md#stacking-multiple-lstms) [`tf.contrib.rnn.LSTMCell`](https://www.tensorflow.org/api_docs/python/tf/contrib/rnn/LSTMCell) wrapped in a [`tf.contrib.rnn.DropoutWrapper`](https://www.tensorflow.org/api_docs/python/tf/contrib/rnn/DropoutWrapper)\n",
    " * Pass cell and embedded input to [`tf.nn.dynamic_rnn()`](https://www.tensorflow.org/api_docs/python/tf/nn/dynamic_rnn)"
   ]
  },
  {
   "cell_type": "code",
   "execution_count": 9,
   "metadata": {
    "collapsed": false,
    "deletable": true,
    "editable": true,
    "scrolled": false
   },
   "outputs": [
    {
     "name": "stdout",
     "output_type": "stream",
     "text": [
      "Tests Passed\n"
     ]
    }
   ],
   "source": [
    "from imp import reload\n",
    "reload(tests)\n",
    "\n",
    "def encoding_layer(rnn_inputs, rnn_size, num_layers, keep_prob, \n",
    "                   source_sequence_length, source_vocab_size, \n",
    "                   encoding_embedding_size):\n",
    "    \"\"\"\n",
    "    Create encoding layer\n",
    "    :param rnn_inputs: Inputs for the RNN\n",
    "    :param rnn_size: RNN Size\n",
    "    :param num_layers: Number of layers\n",
    "    :param keep_prob: Dropout keep probability\n",
    "    :param source_sequence_length: a list of the lengths of each sequence in the batch\n",
    "    :param source_vocab_size: vocabulary size of source data\n",
    "    :param encoding_embedding_size: embedding size of source data\n",
    "    :return: tuple (RNN output, RNN state)\n",
    "    \"\"\"\n",
    "    # TODO: Implement Function\n",
    "    \n",
    "    # Encoder embedding\n",
    "    enc_embed_input = tf.contrib.layers.embed_sequence(rnn_inputs, source_vocab_size, encoding_embedding_size)\n",
    "\n",
    "    # RNN cell\n",
    "    def make_cell(rnn_size,keep_prob):\n",
    "        enc_cell = tf.contrib.rnn.LSTMCell(rnn_size, initializer=tf.random_uniform_initializer(-0.1, 0.1, seed=2))\n",
    "        drop = tf.contrib.rnn.DropoutWrapper(enc_cell,output_keep_prob=keep_prob)\n",
    "        return drop\n",
    "\n",
    "    enc_cell = tf.contrib.rnn.MultiRNNCell([make_cell(rnn_size,keep_prob) for _ in range(num_layers)])\n",
    "    \n",
    "    enc_output, enc_state = tf.nn.dynamic_rnn(enc_cell, enc_embed_input, sequence_length=source_sequence_length, dtype=tf.float32)\n",
    "    \n",
    "    return enc_output, enc_state\n",
    "\n",
    "\"\"\"\n",
    "DON'T MODIFY ANYTHING IN THIS CELL THAT IS BELOW THIS LINE\n",
    "\"\"\"\n",
    "tests.test_encoding_layer(encoding_layer)"
   ]
  },
  {
   "cell_type": "markdown",
   "metadata": {
    "deletable": true,
    "editable": true
   },
   "source": [
    "### Decoding - Training\n",
    "Create a training decoding layer:\n",
    "* Create a [`tf.contrib.seq2seq.TrainingHelper`](https://www.tensorflow.org/api_docs/python/tf/contrib/seq2seq/TrainingHelper) \n",
    "* Create a [`tf.contrib.seq2seq.BasicDecoder`](https://www.tensorflow.org/api_docs/python/tf/contrib/seq2seq/BasicDecoder)\n",
    "* Obtain the decoder outputs from [`tf.contrib.seq2seq.dynamic_decode`](https://www.tensorflow.org/api_docs/python/tf/contrib/seq2seq/dynamic_decode)"
   ]
  },
  {
   "cell_type": "code",
   "execution_count": 10,
   "metadata": {
    "collapsed": false,
    "deletable": true,
    "editable": true
   },
   "outputs": [
    {
     "name": "stdout",
     "output_type": "stream",
     "text": [
      "Tests Passed\n"
     ]
    }
   ],
   "source": [
    "\n",
    "def decoding_layer_train(encoder_state, dec_cell, dec_embed_input, \n",
    "                         target_sequence_length, max_summary_length, \n",
    "                         output_layer, keep_prob):\n",
    "    \"\"\"\n",
    "    Create a decoding layer for training\n",
    "    :param encoder_state: Encoder State\n",
    "    :param dec_cell: Decoder RNN Cell\n",
    "    :param dec_embed_input: Decoder embedded input\n",
    "    :param target_sequence_length: The lengths of each sequence in the target batch\n",
    "    :param max_summary_length: The length of the longest sequence in the batch\n",
    "    :param output_layer: Function to apply the output layer\n",
    "    :param keep_prob: Dropout keep probability\n",
    "    :return: BasicDecoderOutput containing training logits and sample_id\n",
    "    \"\"\"\n",
    "    # TODO: Implement Function\n",
    "    training_helper = tf.contrib.seq2seq.TrainingHelper(inputs=dec_embed_input,\n",
    "                                                            sequence_length=target_sequence_length,\n",
    "                                                            time_major=False)\n",
    "    training_decoder = tf.contrib.seq2seq.BasicDecoder(dec_cell,\n",
    "                                                           training_helper,\n",
    "                                                           encoder_state,\n",
    "                                                           output_layer)\n",
    "    training_decoder_output, _ = tf.contrib.seq2seq.dynamic_decode(training_decoder,\n",
    "                                                                       impute_finished=True,\n",
    "                                                                       maximum_iterations=max_summary_length)\n",
    "    \n",
    "    return training_decoder_output\n",
    "\n",
    "\n",
    "\n",
    "\"\"\"\n",
    "DON'T MODIFY ANYTHING IN THIS CELL THAT IS BELOW THIS LINE\n",
    "\"\"\"\n",
    "tests.test_decoding_layer_train(decoding_layer_train)"
   ]
  },
  {
   "cell_type": "markdown",
   "metadata": {
    "deletable": true,
    "editable": true
   },
   "source": [
    "### Decoding - Inference\n",
    "Create inference decoder:\n",
    "* Create a [`tf.contrib.seq2seq.GreedyEmbeddingHelper`](https://www.tensorflow.org/api_docs/python/tf/contrib/seq2seq/GreedyEmbeddingHelper)\n",
    "* Create a [`tf.contrib.seq2seq.BasicDecoder`](https://www.tensorflow.org/api_docs/python/tf/contrib/seq2seq/BasicDecoder)\n",
    "* Obtain the decoder outputs from [`tf.contrib.seq2seq.dynamic_decode`](https://www.tensorflow.org/api_docs/python/tf/contrib/seq2seq/dynamic_decode)"
   ]
  },
  {
   "cell_type": "code",
   "execution_count": 11,
   "metadata": {
    "collapsed": false,
    "deletable": true,
    "editable": true,
    "scrolled": true
   },
   "outputs": [
    {
     "name": "stdout",
     "output_type": "stream",
     "text": [
      "Tests Passed\n"
     ]
    }
   ],
   "source": [
    "def decoding_layer_infer(encoder_state, dec_cell, dec_embeddings, start_of_sequence_id,\n",
    "                         end_of_sequence_id, max_target_sequence_length,\n",
    "                         vocab_size, output_layer, batch_size, keep_prob):\n",
    "    \"\"\"\n",
    "    Create a decoding layer for inference\n",
    "    :param encoder_state: Encoder state\n",
    "    :param dec_cell: Decoder RNN Cell\n",
    "    :param dec_embeddings: Decoder embeddings\n",
    "    :param start_of_sequence_id: GO ID\n",
    "    :param end_of_sequence_id: EOS Id\n",
    "    :param max_target_sequence_length: Maximum length of target sequences\n",
    "    :param vocab_size: Size of decoder/target vocabulary\n",
    "    :param decoding_scope: TenorFlow Variable Scope for decoding\n",
    "    :param output_layer: Function to apply the output layer\n",
    "    :param batch_size: Batch size\n",
    "    :param keep_prob: Dropout keep probability\n",
    "    :return: BasicDecoderOutput containing inference logits and sample_id\n",
    "    \"\"\"\n",
    "    # TODO: Implement Function\n",
    "    \n",
    "    start_tokens = tf.tile(tf.constant([start_of_sequence_id], dtype=tf.int32), [batch_size], name='start_tokens')\n",
    "    \n",
    "    inference_helper = tf.contrib.seq2seq.GreedyEmbeddingHelper(dec_embeddings,\n",
    "                                                                start_tokens,\n",
    "                                                                end_of_sequence_id)\n",
    "    \n",
    "    inference_decoder = tf.contrib.seq2seq.BasicDecoder(dec_cell,\n",
    "                                                        inference_helper,\n",
    "                                                        encoder_state,\n",
    "                                                        output_layer)\n",
    "    \n",
    "    inference_decoder_output, _ = tf.contrib.seq2seq.dynamic_decode(inference_decoder,\n",
    "                                                            impute_finished=True,\n",
    "                                                            maximum_iterations=max_target_sequence_length)\n",
    "    return inference_decoder_output\n",
    "\n",
    "\n",
    "\n",
    "\"\"\"\n",
    "DON'T MODIFY ANYTHING IN THIS CELL THAT IS BELOW THIS LINE\n",
    "\"\"\"\n",
    "tests.test_decoding_layer_infer(decoding_layer_infer)"
   ]
  },
  {
   "cell_type": "markdown",
   "metadata": {
    "deletable": true,
    "editable": true
   },
   "source": [
    "### Build the Decoding Layer\n",
    "Implement `decoding_layer()` to create a Decoder RNN layer.\n",
    "\n",
    "* Embed the target sequences\n",
    "* Construct the decoder LSTM cell (just like you constructed the encoder cell above)\n",
    "* Create an output layer to map the outputs of the decoder to the elements of our vocabulary\n",
    "* Use the your `decoding_layer_train(encoder_state, dec_cell, dec_embed_input, target_sequence_length, max_target_sequence_length, output_layer, keep_prob)` function to get the training logits.\n",
    "* Use your `decoding_layer_infer(encoder_state, dec_cell, dec_embeddings, start_of_sequence_id, end_of_sequence_id, max_target_sequence_length, vocab_size, output_layer, batch_size, keep_prob)` function to get the inference logits.\n",
    "\n",
    "Note: You'll need to use [tf.variable_scope](https://www.tensorflow.org/api_docs/python/tf/variable_scope) to share variables between training and inference."
   ]
  },
  {
   "cell_type": "code",
   "execution_count": 12,
   "metadata": {
    "collapsed": false,
    "deletable": true,
    "editable": true
   },
   "outputs": [
    {
     "name": "stdout",
     "output_type": "stream",
     "text": [
      "Tests Passed\n"
     ]
    }
   ],
   "source": [
    "def decoding_layer(dec_input, encoder_state,\n",
    "                   target_sequence_length, max_target_sequence_length,\n",
    "                   rnn_size,\n",
    "                   num_layers, target_vocab_to_int, target_vocab_size,\n",
    "                   batch_size, keep_prob, decoding_embedding_size):\n",
    "    \"\"\"\n",
    "    Create decoding layer\n",
    "    :param dec_input: Decoder input\n",
    "    :param encoder_state: Encoder state\n",
    "    :param target_sequence_length: The lengths of each sequence in the target batch\n",
    "    :param max_target_sequence_length: Maximum length of target sequences\n",
    "    :param rnn_size: RNN Size\n",
    "    :param num_layers: Number of layers\n",
    "    :param target_vocab_to_int: Dictionary to go from the target words to an id\n",
    "    :param target_vocab_size: Size of target vocabulary\n",
    "    :param batch_size: The size of the batch\n",
    "    :param keep_prob: Dropout keep probability\n",
    "    :return: Tuple of (Training BasicDecoderOutput, Inference BasicDecoderOutput)\n",
    "    \"\"\"\n",
    "    # TODO: Implement Function\n",
    "    \n",
    "    start_of_sequence_id = target_vocab_to_int['<GO>']\n",
    "    end_of_sequence_id = target_vocab_to_int['<EOS>']\n",
    "    dec_embeddings = tf.Variable(tf.random_uniform([target_vocab_size, decoding_embedding_size]))\n",
    "    dec_embed_input = tf.nn.embedding_lookup(dec_embeddings, dec_input)\n",
    "    \n",
    "    \n",
    "    def make_cell(rnn_size):\n",
    "        dec_cell = tf.contrib.rnn.LSTMCell(rnn_size,\n",
    "                                           initializer=tf.random_uniform_initializer(-0.1, 0.1, seed=2))\n",
    "        return dec_cell\n",
    "\n",
    "    dec_cell = tf.contrib.rnn.MultiRNNCell([make_cell(rnn_size) for _ in range(num_layers)])\n",
    "    \n",
    "    output_layer = Dense(target_vocab_size,\n",
    "                         kernel_initializer = tf.truncated_normal_initializer(mean = 0.0, stddev=0.1))\n",
    "    \n",
    "    with tf.variable_scope(\"decode\"):\n",
    "        \n",
    "        training_decoder_output = decoding_layer_train(encoder_state, dec_cell, dec_embed_input, \n",
    "                         target_sequence_length, max_target_sequence_length, \n",
    "                         output_layer, keep_prob)\n",
    "        \n",
    "    with tf.variable_scope(\"decode\", reuse=True):\n",
    "        \n",
    "        inference_decoder_output = decoding_layer_infer(encoder_state, dec_cell, dec_embeddings, start_of_sequence_id,\n",
    "                         end_of_sequence_id, max_target_sequence_length,\n",
    "                         target_vocab_size, output_layer, batch_size, keep_prob)\n",
    "\n",
    "    return (training_decoder_output, inference_decoder_output)\n",
    "\n",
    "\n",
    "\n",
    "\n",
    "\"\"\"\n",
    "DON'T MODIFY ANYTHING IN THIS CELL THAT IS BELOW THIS LINE\n",
    "\"\"\"\n",
    "tests.test_decoding_layer(decoding_layer)"
   ]
  },
  {
   "cell_type": "markdown",
   "metadata": {
    "deletable": true,
    "editable": true
   },
   "source": [
    "### Build the Neural Network\n",
    "Apply the functions you implemented above to:\n",
    "\n",
    "- Apply embedding to the input data for the encoder.\n",
    "- Encode the input using your `encoding_layer(rnn_inputs, rnn_size, num_layers, keep_prob,  source_sequence_length, source_vocab_size, encoding_embedding_size)`.\n",
    "- Process target data using your `process_decoder_input(target_data, target_vocab_to_int, batch_size)` function.\n",
    "- Apply embedding to the target data for the decoder.\n",
    "- Decode the encoded input using your `decoding_layer(dec_input, enc_state, target_sequence_length, max_target_sentence_length, rnn_size, num_layers, target_vocab_to_int, target_vocab_size, batch_size, keep_prob, dec_embedding_size)` function."
   ]
  },
  {
   "cell_type": "code",
   "execution_count": 13,
   "metadata": {
    "collapsed": false,
    "deletable": true,
    "editable": true
   },
   "outputs": [
    {
     "name": "stdout",
     "output_type": "stream",
     "text": [
      "Tests Passed\n"
     ]
    }
   ],
   "source": [
    "def seq2seq_model(input_data, target_data, keep_prob, batch_size,\n",
    "                  source_sequence_length, target_sequence_length,\n",
    "                  max_target_sentence_length,\n",
    "                  source_vocab_size, target_vocab_size,\n",
    "                  enc_embedding_size, dec_embedding_size,\n",
    "                  rnn_size, num_layers, target_vocab_to_int):\n",
    "    \"\"\"\n",
    "    Build the Sequence-to-Sequence part of the neural network\n",
    "    :param input_data: Input placeholder\n",
    "    :param target_data: Target placeholder\n",
    "    :param keep_prob: Dropout keep probability placeholder\n",
    "    :param batch_size: Batch Size\n",
    "    :param source_sequence_length: Sequence Lengths of source sequences in the batch\n",
    "    :param target_sequence_length: Sequence Lengths of target sequences in the batch\n",
    "    :param source_vocab_size: Source vocabulary size\n",
    "    :param target_vocab_size: Target vocabulary size\n",
    "    :param enc_embedding_size: Decoder embedding size\n",
    "    :param dec_embedding_size: Encoder embedding size\n",
    "    :param rnn_size: RNN Size\n",
    "    :param num_layers: Number of layers\n",
    "    :param target_vocab_to_int: Dictionary to go from the target words to an id\n",
    "    :return: Tuple of (Training BasicDecoderOutput, Inference BasicDecoderOutput)\n",
    "    \"\"\"\n",
    "    # TODO: Implement Function\n",
    "    _, enc_state = encoding_layer(input_data, \n",
    "                                  rnn_size, \n",
    "                                  num_layers, \n",
    "                                  keep_prob,\n",
    "                                  source_sequence_length,\n",
    "                                  source_vocab_size, \n",
    "                                  enc_embedding_size)\n",
    "\n",
    "    \n",
    "    \n",
    "    # Prepare the target sequences we'll feed to the decoder in training mode\n",
    "    dec_input = process_decoder_input(target_data, target_vocab_to_int, batch_size)\n",
    "    \n",
    "    # Pass encoder state and decoder inputs to the decoders\n",
    "    training_decoder_output, inference_decoder_output = decoding_layer(dec_input, \n",
    "                                                                       enc_state,\n",
    "                                                                       target_sequence_length,\n",
    "                                                                       max_target_sentence_length,\n",
    "                                                                       rnn_size,\n",
    "                                                                       num_layers,\n",
    "                                                                       target_vocab_to_int,\n",
    "                                                                       target_vocab_size,\n",
    "                                                                       batch_size,\n",
    "                                                                       keep_prob,\n",
    "                                                                       dec_embedding_size) \n",
    "    \n",
    "    \n",
    "    \n",
    "    return training_decoder_output, inference_decoder_output\n",
    "\n",
    "\n",
    "\"\"\"\n",
    "DON'T MODIFY ANYTHING IN THIS CELL THAT IS BELOW THIS LINE\n",
    "\"\"\"\n",
    "tests.test_seq2seq_model(seq2seq_model)"
   ]
  },
  {
   "cell_type": "markdown",
   "metadata": {
    "deletable": true,
    "editable": true
   },
   "source": [
    "## Neural Network Training\n",
    "### Hyperparameters\n",
    "Tune the following parameters:\n",
    "\n",
    "- Set `epochs` to the number of epochs.\n",
    "- Set `batch_size` to the batch size.\n",
    "- Set `rnn_size` to the size of the RNNs.\n",
    "- Set `num_layers` to the number of layers.\n",
    "- Set `encoding_embedding_size` to the size of the embedding for the encoder.\n",
    "- Set `decoding_embedding_size` to the size of the embedding for the decoder.\n",
    "- Set `learning_rate` to the learning rate.\n",
    "- Set `keep_probability` to the Dropout keep probability\n",
    "- Set `display_step` to state how many steps between each debug output statement"
   ]
  },
  {
   "cell_type": "code",
   "execution_count": 14,
   "metadata": {
    "collapsed": true,
    "deletable": true,
    "editable": true
   },
   "outputs": [],
   "source": [
    "# Number of Epochs\n",
    "epochs = 10\n",
    "# Display every n-th step\n",
    "display_step = 10\n",
    "# Batch Size\n",
    "batch_size = 512\n",
    "# RNN Size\n",
    "rnn_size = 512\n",
    "# Number of Layers\n",
    "num_layers = 3\n",
    "# Embedding Size\n",
    "encoding_embedding_size = 256\n",
    "decoding_embedding_size = 256\n",
    "# Learning Rate\n",
    "learning_rate = 0.001\n",
    "# Dropout Keep Probability\n",
    "keep_probability = 0.8"
   ]
  },
  {
   "cell_type": "markdown",
   "metadata": {
    "deletable": true,
    "editable": true
   },
   "source": [
    "### Build the Graph\n",
    "Build the graph using the neural network you implemented."
   ]
  },
  {
   "cell_type": "code",
   "execution_count": 15,
   "metadata": {
    "collapsed": false,
    "deletable": true,
    "editable": true
   },
   "outputs": [],
   "source": [
    "\"\"\"\n",
    "DON'T MODIFY ANYTHING IN THIS CELL\n",
    "\"\"\"\n",
    "save_path = 'checkpoints/dev'\n",
    "(source_int_text, target_int_text), (source_vocab_to_int, target_vocab_to_int), _ = helper.load_preprocess()\n",
    "max_target_sentence_length = max([len(sentence) for sentence in source_int_text])\n",
    "\n",
    "train_graph = tf.Graph()\n",
    "with train_graph.as_default():\n",
    "    input_data, targets, lr, keep_prob, target_sequence_length, max_target_sequence_length, source_sequence_length = model_inputs()\n",
    "\n",
    "    #sequence_length = tf.placeholder_with_default(max_target_sentence_length, None, name='sequence_length')\n",
    "    input_shape = tf.shape(input_data)\n",
    "\n",
    "    train_logits, inference_logits = seq2seq_model(tf.reverse(input_data, [-1]),\n",
    "                                                   targets,\n",
    "                                                   keep_prob,\n",
    "                                                   batch_size,\n",
    "                                                   source_sequence_length,\n",
    "                                                   target_sequence_length,\n",
    "                                                   max_target_sequence_length,\n",
    "                                                   len(source_vocab_to_int),\n",
    "                                                   len(target_vocab_to_int),\n",
    "                                                   encoding_embedding_size,\n",
    "                                                   decoding_embedding_size,\n",
    "                                                   rnn_size,\n",
    "                                                   num_layers,\n",
    "                                                   target_vocab_to_int)\n",
    "\n",
    "\n",
    "    training_logits = tf.identity(train_logits.rnn_output, name='logits')\n",
    "    inference_logits = tf.identity(inference_logits.sample_id, name='predictions')\n",
    "\n",
    "    masks = tf.sequence_mask(target_sequence_length, max_target_sequence_length, dtype=tf.float32, name='masks')\n",
    "\n",
    "    with tf.name_scope(\"optimization\"):\n",
    "        # Loss function\n",
    "        cost = tf.contrib.seq2seq.sequence_loss(\n",
    "            training_logits,\n",
    "            targets,\n",
    "            masks)\n",
    "\n",
    "        # Optimizer\n",
    "        optimizer = tf.train.AdamOptimizer(lr)\n",
    "\n",
    "        # Gradient Clipping\n",
    "        gradients = optimizer.compute_gradients(cost)\n",
    "        capped_gradients = [(tf.clip_by_value(grad, -1., 1.), var) for grad, var in gradients if grad is not None]\n",
    "        train_op = optimizer.apply_gradients(capped_gradients)\n"
   ]
  },
  {
   "cell_type": "markdown",
   "metadata": {
    "deletable": true,
    "editable": true
   },
   "source": [
    "Batch and pad the source and target sequences"
   ]
  },
  {
   "cell_type": "code",
   "execution_count": 16,
   "metadata": {
    "collapsed": true,
    "deletable": true,
    "editable": true
   },
   "outputs": [],
   "source": [
    "\"\"\"\n",
    "DON'T MODIFY ANYTHING IN THIS CELL\n",
    "\"\"\"\n",
    "def pad_sentence_batch(sentence_batch, pad_int):\n",
    "    \"\"\"Pad sentences with <PAD> so that each sentence of a batch has the same length\"\"\"\n",
    "    max_sentence = max([len(sentence) for sentence in sentence_batch])\n",
    "    return [sentence + [pad_int] * (max_sentence - len(sentence)) for sentence in sentence_batch]\n",
    "\n",
    "\n",
    "def get_batches(sources, targets, batch_size, source_pad_int, target_pad_int):\n",
    "    \"\"\"Batch targets, sources, and the lengths of their sentences together\"\"\"\n",
    "    for batch_i in range(0, len(sources)//batch_size):\n",
    "        start_i = batch_i * batch_size\n",
    "\n",
    "        # Slice the right amount for the batch\n",
    "        sources_batch = sources[start_i:start_i + batch_size]\n",
    "        targets_batch = targets[start_i:start_i + batch_size]\n",
    "\n",
    "        # Pad\n",
    "        pad_sources_batch = np.array(pad_sentence_batch(sources_batch, source_pad_int))\n",
    "        pad_targets_batch = np.array(pad_sentence_batch(targets_batch, target_pad_int))\n",
    "\n",
    "        # Need the lengths for the _lengths parameters\n",
    "        pad_targets_lengths = []\n",
    "        for target in pad_targets_batch:\n",
    "            pad_targets_lengths.append(len(target))\n",
    "\n",
    "        pad_source_lengths = []\n",
    "        for source in pad_sources_batch:\n",
    "            pad_source_lengths.append(len(source))\n",
    "\n",
    "        yield pad_sources_batch, pad_targets_batch, pad_source_lengths, pad_targets_lengths\n"
   ]
  },
  {
   "cell_type": "markdown",
   "metadata": {
    "deletable": true,
    "editable": true
   },
   "source": [
    "### Train\n",
    "Train the neural network on the preprocessed data. If you have a hard time getting a good loss, check the forms to see if anyone is having the same problem."
   ]
  },
  {
   "cell_type": "code",
   "execution_count": 17,
   "metadata": {
    "collapsed": false,
    "deletable": true,
    "editable": true,
    "scrolled": true
   },
   "outputs": [
    {
     "name": "stdout",
     "output_type": "stream",
     "text": [
      "Epoch   0 Batch   10/269 - Train Accuracy: 0.3509, Validation Accuracy: 0.4137, Loss: 3.1161\n",
      "Epoch   0 Batch   20/269 - Train Accuracy: 0.3783, Validation Accuracy: 0.4331, Loss: 2.6763\n",
      "Epoch   0 Batch   30/269 - Train Accuracy: 0.4337, Validation Accuracy: 0.4583, Loss: 2.4002\n",
      "Epoch   0 Batch   40/269 - Train Accuracy: 0.4648, Validation Accuracy: 0.5043, Loss: 2.2405\n",
      "Epoch   0 Batch   50/269 - Train Accuracy: 0.4352, Validation Accuracy: 0.4802, Loss: 2.2109\n",
      "Epoch   0 Batch   60/269 - Train Accuracy: 0.5027, Validation Accuracy: 0.5071, Loss: 1.7768\n",
      "Epoch   0 Batch   70/269 - Train Accuracy: 0.4879, Validation Accuracy: 0.4966, Loss: 1.7085\n",
      "Epoch   0 Batch   80/269 - Train Accuracy: 0.5144, Validation Accuracy: 0.5270, Loss: 1.6665\n",
      "Epoch   0 Batch   90/269 - Train Accuracy: 0.4764, Validation Accuracy: 0.5308, Loss: 1.6384\n",
      "Epoch   0 Batch  100/269 - Train Accuracy: 0.5363, Validation Accuracy: 0.5412, Loss: 1.4155\n",
      "Epoch   0 Batch  110/269 - Train Accuracy: 0.5113, Validation Accuracy: 0.5376, Loss: 1.3669\n",
      "Epoch   0 Batch  120/269 - Train Accuracy: 0.4974, Validation Accuracy: 0.5354, Loss: 2.1511\n",
      "Epoch   0 Batch  130/269 - Train Accuracy: 0.4930, Validation Accuracy: 0.5328, Loss: 1.4663\n",
      "Epoch   0 Batch  140/269 - Train Accuracy: 0.5397, Validation Accuracy: 0.5467, Loss: 1.2530\n",
      "Epoch   0 Batch  150/269 - Train Accuracy: 0.5328, Validation Accuracy: 0.5437, Loss: 1.1680\n",
      "Epoch   0 Batch  160/269 - Train Accuracy: 0.5306, Validation Accuracy: 0.5338, Loss: 1.0852\n",
      "Epoch   0 Batch  170/269 - Train Accuracy: 0.5771, Validation Accuracy: 0.5830, Loss: 1.0351\n",
      "Epoch   0 Batch  180/269 - Train Accuracy: 0.5551, Validation Accuracy: 0.5666, Loss: 1.0027\n",
      "Epoch   0 Batch  190/269 - Train Accuracy: 0.5770, Validation Accuracy: 0.5825, Loss: 0.9631\n",
      "Epoch   0 Batch  200/269 - Train Accuracy: 0.5658, Validation Accuracy: 0.5822, Loss: 0.9720\n",
      "Epoch   0 Batch  210/269 - Train Accuracy: 0.5778, Validation Accuracy: 0.5799, Loss: 0.8933\n",
      "Epoch   0 Batch  220/269 - Train Accuracy: 0.6039, Validation Accuracy: 0.5884, Loss: 0.8258\n",
      "Epoch   0 Batch  230/269 - Train Accuracy: 0.5855, Validation Accuracy: 0.5978, Loss: 0.8420\n",
      "Epoch   0 Batch  240/269 - Train Accuracy: 0.6304, Validation Accuracy: 0.5814, Loss: 0.7420\n",
      "Epoch   0 Batch  250/269 - Train Accuracy: 0.5878, Validation Accuracy: 0.5993, Loss: 0.8104\n",
      "Epoch   0 Batch  260/269 - Train Accuracy: 0.5894, Validation Accuracy: 0.5974, Loss: 0.8171\n",
      "Epoch   1 Batch   10/269 - Train Accuracy: 0.5898, Validation Accuracy: 0.6071, Loss: 0.7549\n",
      "Epoch   1 Batch   20/269 - Train Accuracy: 0.5981, Validation Accuracy: 0.6059, Loss: 0.7562\n",
      "Epoch   1 Batch   30/269 - Train Accuracy: 0.5991, Validation Accuracy: 0.5919, Loss: 0.6939\n",
      "Epoch   1 Batch   40/269 - Train Accuracy: 0.6059, Validation Accuracy: 0.6204, Loss: 0.7132\n",
      "Epoch   1 Batch   50/269 - Train Accuracy: 0.5906, Validation Accuracy: 0.6116, Loss: 0.6998\n",
      "Epoch   1 Batch   60/269 - Train Accuracy: 0.6316, Validation Accuracy: 0.6297, Loss: 0.6174\n",
      "Epoch   1 Batch   70/269 - Train Accuracy: 0.6332, Validation Accuracy: 0.6292, Loss: 0.6306\n",
      "Epoch   1 Batch   80/269 - Train Accuracy: 0.6424, Validation Accuracy: 0.6470, Loss: 0.6070\n",
      "Epoch   1 Batch   90/269 - Train Accuracy: 0.5971, Validation Accuracy: 0.6208, Loss: 0.6210\n",
      "Epoch   1 Batch  100/269 - Train Accuracy: 0.6612, Validation Accuracy: 0.6462, Loss: 0.5772\n",
      "Epoch   1 Batch  110/269 - Train Accuracy: 0.6343, Validation Accuracy: 0.6316, Loss: 0.5497\n",
      "Epoch   1 Batch  120/269 - Train Accuracy: 0.6564, Validation Accuracy: 0.6633, Loss: 0.5589\n",
      "Epoch   1 Batch  130/269 - Train Accuracy: 0.6447, Validation Accuracy: 0.6628, Loss: 0.5352\n",
      "Epoch   1 Batch  140/269 - Train Accuracy: 0.7040, Validation Accuracy: 0.6792, Loss: 0.5054\n",
      "Epoch   1 Batch  150/269 - Train Accuracy: 0.6523, Validation Accuracy: 0.6420, Loss: 0.5282\n",
      "Epoch   1 Batch  160/269 - Train Accuracy: 0.6931, Validation Accuracy: 0.6867, Loss: 0.4892\n",
      "Epoch   1 Batch  170/269 - Train Accuracy: 0.7076, Validation Accuracy: 0.7028, Loss: 0.4519\n",
      "Epoch   1 Batch  180/269 - Train Accuracy: 0.7380, Validation Accuracy: 0.7262, Loss: 0.4325\n",
      "Epoch   1 Batch  190/269 - Train Accuracy: 0.7439, Validation Accuracy: 0.7377, Loss: 0.3995\n",
      "Epoch   1 Batch  200/269 - Train Accuracy: 0.7285, Validation Accuracy: 0.7418, Loss: 0.4114\n",
      "Epoch   1 Batch  210/269 - Train Accuracy: 0.7490, Validation Accuracy: 0.7564, Loss: 0.3801\n",
      "Epoch   1 Batch  220/269 - Train Accuracy: 0.7942, Validation Accuracy: 0.7716, Loss: 0.3373\n",
      "Epoch   1 Batch  230/269 - Train Accuracy: 0.7887, Validation Accuracy: 0.7823, Loss: 0.3356\n",
      "Epoch   1 Batch  240/269 - Train Accuracy: 0.8147, Validation Accuracy: 0.7909, Loss: 0.2939\n",
      "Epoch   1 Batch  250/269 - Train Accuracy: 0.8145, Validation Accuracy: 0.8103, Loss: 0.3029\n",
      "Epoch   1 Batch  260/269 - Train Accuracy: 0.7834, Validation Accuracy: 0.8122, Loss: 0.2972\n",
      "Epoch   2 Batch   10/269 - Train Accuracy: 0.8460, Validation Accuracy: 0.8373, Loss: 0.2379\n",
      "Epoch   2 Batch   20/269 - Train Accuracy: 0.8387, Validation Accuracy: 0.8410, Loss: 0.2261\n",
      "Epoch   2 Batch   30/269 - Train Accuracy: 0.8688, Validation Accuracy: 0.8468, Loss: 0.2136\n",
      "Epoch   2 Batch   40/269 - Train Accuracy: 0.8543, Validation Accuracy: 0.8526, Loss: 0.1996\n",
      "Epoch   2 Batch   50/269 - Train Accuracy: 0.8588, Validation Accuracy: 0.8620, Loss: 0.1964\n",
      "Epoch   2 Batch   60/269 - Train Accuracy: 0.8850, Validation Accuracy: 0.8732, Loss: 0.1501\n",
      "Epoch   2 Batch   70/269 - Train Accuracy: 0.8899, Validation Accuracy: 0.8779, Loss: 0.1552\n",
      "Epoch   2 Batch   80/269 - Train Accuracy: 0.8890, Validation Accuracy: 0.8877, Loss: 0.1350\n",
      "Epoch   2 Batch   90/269 - Train Accuracy: 0.8934, Validation Accuracy: 0.8825, Loss: 0.1410\n",
      "Epoch   2 Batch  100/269 - Train Accuracy: 0.8943, Validation Accuracy: 0.8987, Loss: 0.1233\n",
      "Epoch   2 Batch  110/269 - Train Accuracy: 0.8973, Validation Accuracy: 0.8746, Loss: 0.1125\n",
      "Epoch   2 Batch  120/269 - Train Accuracy: 0.9060, Validation Accuracy: 0.9001, Loss: 0.1108\n",
      "Epoch   2 Batch  130/269 - Train Accuracy: 0.9135, Validation Accuracy: 0.8991, Loss: 0.1102\n",
      "Epoch   2 Batch  140/269 - Train Accuracy: 0.9040, Validation Accuracy: 0.9012, Loss: 0.1054\n",
      "Epoch   2 Batch  150/269 - Train Accuracy: 0.9097, Validation Accuracy: 0.9071, Loss: 0.0958\n",
      "Epoch   2 Batch  160/269 - Train Accuracy: 0.9142, Validation Accuracy: 0.9182, Loss: 0.0916\n",
      "Epoch   2 Batch  170/269 - Train Accuracy: 0.9119, Validation Accuracy: 0.9173, Loss: 0.0828\n",
      "Epoch   2 Batch  180/269 - Train Accuracy: 0.9250, Validation Accuracy: 0.9199, Loss: 0.0807\n",
      "Epoch   2 Batch  190/269 - Train Accuracy: 0.9342, Validation Accuracy: 0.9186, Loss: 0.0766\n",
      "Epoch   2 Batch  200/269 - Train Accuracy: 0.9095, Validation Accuracy: 0.9206, Loss: 0.0780\n",
      "Epoch   2 Batch  210/269 - Train Accuracy: 0.9209, Validation Accuracy: 0.9181, Loss: 0.0745\n",
      "Epoch   2 Batch  220/269 - Train Accuracy: 0.9229, Validation Accuracy: 0.9158, Loss: 0.0690\n",
      "Epoch   2 Batch  230/269 - Train Accuracy: 0.9294, Validation Accuracy: 0.9324, Loss: 0.0696\n",
      "Epoch   2 Batch  240/269 - Train Accuracy: 0.9435, Validation Accuracy: 0.9297, Loss: 0.0616\n",
      "Epoch   2 Batch  250/269 - Train Accuracy: 0.9391, Validation Accuracy: 0.9322, Loss: 0.0621\n",
      "Epoch   2 Batch  260/269 - Train Accuracy: 0.9293, Validation Accuracy: 0.9346, Loss: 0.0705\n",
      "Epoch   3 Batch   10/269 - Train Accuracy: 0.9415, Validation Accuracy: 0.9412, Loss: 0.0505\n",
      "Epoch   3 Batch   20/269 - Train Accuracy: 0.9439, Validation Accuracy: 0.9354, Loss: 0.0527\n",
      "Epoch   3 Batch   30/269 - Train Accuracy: 0.9419, Validation Accuracy: 0.9324, Loss: 0.0541\n",
      "Epoch   3 Batch   40/269 - Train Accuracy: 0.9272, Validation Accuracy: 0.9411, Loss: 0.0585\n",
      "Epoch   3 Batch   50/269 - Train Accuracy: 0.9282, Validation Accuracy: 0.9413, Loss: 0.0610\n",
      "Epoch   3 Batch   60/269 - Train Accuracy: 0.9379, Validation Accuracy: 0.9389, Loss: 0.0471\n",
      "Epoch   3 Batch   70/269 - Train Accuracy: 0.9382, Validation Accuracy: 0.9415, Loss: 0.0527\n",
      "Epoch   3 Batch   80/269 - Train Accuracy: 0.9520, Validation Accuracy: 0.9348, Loss: 0.0493\n",
      "Epoch   3 Batch   90/269 - Train Accuracy: 0.9453, Validation Accuracy: 0.9489, Loss: 0.0500\n",
      "Epoch   3 Batch  100/269 - Train Accuracy: 0.9373, Validation Accuracy: 0.9513, Loss: 0.0500\n",
      "Epoch   3 Batch  110/269 - Train Accuracy: 0.9408, Validation Accuracy: 0.9457, Loss: 0.0429\n",
      "Epoch   3 Batch  120/269 - Train Accuracy: 0.9475, Validation Accuracy: 0.9454, Loss: 0.0455\n",
      "Epoch   3 Batch  130/269 - Train Accuracy: 0.9472, Validation Accuracy: 0.9498, Loss: 0.0476\n",
      "Epoch   3 Batch  140/269 - Train Accuracy: 0.9452, Validation Accuracy: 0.9518, Loss: 0.0467\n",
      "Epoch   3 Batch  150/269 - Train Accuracy: 0.9435, Validation Accuracy: 0.9483, Loss: 0.0448\n",
      "Epoch   3 Batch  160/269 - Train Accuracy: 0.9497, Validation Accuracy: 0.9514, Loss: 0.0427\n",
      "Epoch   3 Batch  170/269 - Train Accuracy: 0.9540, Validation Accuracy: 0.9453, Loss: 0.0365\n",
      "Epoch   3 Batch  180/269 - Train Accuracy: 0.9572, Validation Accuracy: 0.9502, Loss: 0.0399\n",
      "Epoch   3 Batch  190/269 - Train Accuracy: 0.9597, Validation Accuracy: 0.9559, Loss: 0.0373\n",
      "Epoch   3 Batch  200/269 - Train Accuracy: 0.9560, Validation Accuracy: 0.9472, Loss: 0.0358\n",
      "Epoch   3 Batch  210/269 - Train Accuracy: 0.9392, Validation Accuracy: 0.9515, Loss: 0.0359\n",
      "Epoch   3 Batch  220/269 - Train Accuracy: 0.9537, Validation Accuracy: 0.9569, Loss: 0.0364\n",
      "Epoch   3 Batch  230/269 - Train Accuracy: 0.9556, Validation Accuracy: 0.9637, Loss: 0.0366\n",
      "Epoch   3 Batch  240/269 - Train Accuracy: 0.9634, Validation Accuracy: 0.9541, Loss: 0.0316\n",
      "Epoch   3 Batch  250/269 - Train Accuracy: 0.9576, Validation Accuracy: 0.9561, Loss: 0.0345\n",
      "Epoch   3 Batch  260/269 - Train Accuracy: 0.9506, Validation Accuracy: 0.9604, Loss: 0.0399\n",
      "Epoch   4 Batch   10/269 - Train Accuracy: 0.9669, Validation Accuracy: 0.9568, Loss: 0.0297\n",
      "Epoch   4 Batch   20/269 - Train Accuracy: 0.9581, Validation Accuracy: 0.9527, Loss: 0.0304\n",
      "Epoch   4 Batch   30/269 - Train Accuracy: 0.9584, Validation Accuracy: 0.9435, Loss: 0.0313\n",
      "Epoch   4 Batch   40/269 - Train Accuracy: 0.9605, Validation Accuracy: 0.9536, Loss: 0.0355\n",
      "Epoch   4 Batch   50/269 - Train Accuracy: 0.9587, Validation Accuracy: 0.9662, Loss: 0.0372\n",
      "Epoch   4 Batch   60/269 - Train Accuracy: 0.9678, Validation Accuracy: 0.9585, Loss: 0.0288\n",
      "Epoch   4 Batch   70/269 - Train Accuracy: 0.9575, Validation Accuracy: 0.9499, Loss: 0.0312\n",
      "Epoch   4 Batch   80/269 - Train Accuracy: 0.9640, Validation Accuracy: 0.9461, Loss: 0.0298\n",
      "Epoch   4 Batch   90/269 - Train Accuracy: 0.9599, Validation Accuracy: 0.9580, Loss: 0.0303\n",
      "Epoch   4 Batch  100/269 - Train Accuracy: 0.9630, Validation Accuracy: 0.9613, Loss: 0.0326\n",
      "Epoch   4 Batch  110/269 - Train Accuracy: 0.9640, Validation Accuracy: 0.9539, Loss: 0.0261\n",
      "Epoch   4 Batch  120/269 - Train Accuracy: 0.9655, Validation Accuracy: 0.9638, Loss: 0.0302\n",
      "Epoch   4 Batch  130/269 - Train Accuracy: 0.9629, Validation Accuracy: 0.9617, Loss: 0.0309\n",
      "Epoch   4 Batch  140/269 - Train Accuracy: 0.9630, Validation Accuracy: 0.9674, Loss: 0.0292\n",
      "Epoch   4 Batch  150/269 - Train Accuracy: 0.9629, Validation Accuracy: 0.9618, Loss: 0.0293\n",
      "Epoch   4 Batch  160/269 - Train Accuracy: 0.9674, Validation Accuracy: 0.9602, Loss: 0.0260\n",
      "Epoch   4 Batch  170/269 - Train Accuracy: 0.9613, Validation Accuracy: 0.9708, Loss: 0.0243\n",
      "Epoch   4 Batch  180/269 - Train Accuracy: 0.9665, Validation Accuracy: 0.9593, Loss: 0.0259\n",
      "Epoch   4 Batch  190/269 - Train Accuracy: 0.9655, Validation Accuracy: 0.9644, Loss: 0.0273\n",
      "Epoch   4 Batch  200/269 - Train Accuracy: 0.9806, Validation Accuracy: 0.9667, Loss: 0.0236\n",
      "Epoch   4 Batch  210/269 - Train Accuracy: 0.9694, Validation Accuracy: 0.9664, Loss: 0.0235\n",
      "Epoch   4 Batch  220/269 - Train Accuracy: 0.9679, Validation Accuracy: 0.9672, Loss: 0.0253\n",
      "Epoch   4 Batch  230/269 - Train Accuracy: 0.9671, Validation Accuracy: 0.9709, Loss: 0.0242\n",
      "Epoch   4 Batch  240/269 - Train Accuracy: 0.9684, Validation Accuracy: 0.9612, Loss: 0.0231\n",
      "Epoch   4 Batch  250/269 - Train Accuracy: 0.9622, Validation Accuracy: 0.9593, Loss: 0.0253\n",
      "Epoch   4 Batch  260/269 - Train Accuracy: 0.9735, Validation Accuracy: 0.9620, Loss: 0.0271\n",
      "Epoch   5 Batch   10/269 - Train Accuracy: 0.9839, Validation Accuracy: 0.9588, Loss: 0.0190\n",
      "Epoch   5 Batch   20/269 - Train Accuracy: 0.9685, Validation Accuracy: 0.9640, Loss: 0.0205\n",
      "Epoch   5 Batch   30/269 - Train Accuracy: 0.9739, Validation Accuracy: 0.9679, Loss: 0.0227\n",
      "Epoch   5 Batch   40/269 - Train Accuracy: 0.9716, Validation Accuracy: 0.9592, Loss: 0.0254\n",
      "Epoch   5 Batch   50/269 - Train Accuracy: 0.9654, Validation Accuracy: 0.9654, Loss: 0.0282\n",
      "Epoch   5 Batch   60/269 - Train Accuracy: 0.9729, Validation Accuracy: 0.9712, Loss: 0.0222\n",
      "Epoch   5 Batch   70/269 - Train Accuracy: 0.9716, Validation Accuracy: 0.9646, Loss: 0.0212\n",
      "Epoch   5 Batch   80/269 - Train Accuracy: 0.9720, Validation Accuracy: 0.9606, Loss: 0.0224\n",
      "Epoch   5 Batch   90/269 - Train Accuracy: 0.9736, Validation Accuracy: 0.9656, Loss: 0.0213\n",
      "Epoch   5 Batch  100/269 - Train Accuracy: 0.9691, Validation Accuracy: 0.9506, Loss: 0.0251\n",
      "Epoch   5 Batch  110/269 - Train Accuracy: 0.9678, Validation Accuracy: 0.9687, Loss: 0.0200\n",
      "Epoch   5 Batch  120/269 - Train Accuracy: 0.9683, Validation Accuracy: 0.9632, Loss: 0.0224\n",
      "Epoch   5 Batch  130/269 - Train Accuracy: 0.9729, Validation Accuracy: 0.9688, Loss: 0.0230\n",
      "Epoch   5 Batch  140/269 - Train Accuracy: 0.9750, Validation Accuracy: 0.9664, Loss: 0.0216\n",
      "Epoch   5 Batch  150/269 - Train Accuracy: 0.9713, Validation Accuracy: 0.9664, Loss: 0.0207\n",
      "Epoch   5 Batch  160/269 - Train Accuracy: 0.9739, Validation Accuracy: 0.9650, Loss: 0.0188\n",
      "Epoch   5 Batch  170/269 - Train Accuracy: 0.9681, Validation Accuracy: 0.9782, Loss: 0.0181\n",
      "Epoch   5 Batch  180/269 - Train Accuracy: 0.9801, Validation Accuracy: 0.9632, Loss: 0.0166\n",
      "Epoch   5 Batch  190/269 - Train Accuracy: 0.9807, Validation Accuracy: 0.9706, Loss: 0.0185\n",
      "Epoch   5 Batch  200/269 - Train Accuracy: 0.9840, Validation Accuracy: 0.9693, Loss: 0.0165\n",
      "Epoch   5 Batch  210/269 - Train Accuracy: 0.9839, Validation Accuracy: 0.9685, Loss: 0.0174\n",
      "Epoch   5 Batch  220/269 - Train Accuracy: 0.9720, Validation Accuracy: 0.9649, Loss: 0.0180\n",
      "Epoch   5 Batch  230/269 - Train Accuracy: 0.9790, Validation Accuracy: 0.9719, Loss: 0.0174\n",
      "Epoch   5 Batch  240/269 - Train Accuracy: 0.9755, Validation Accuracy: 0.9615, Loss: 0.0177\n",
      "Epoch   5 Batch  250/269 - Train Accuracy: 0.9740, Validation Accuracy: 0.9640, Loss: 0.0187\n",
      "Epoch   5 Batch  260/269 - Train Accuracy: 0.9753, Validation Accuracy: 0.9628, Loss: 0.0200\n",
      "Epoch   6 Batch   10/269 - Train Accuracy: 0.9840, Validation Accuracy: 0.9740, Loss: 0.0154\n",
      "Epoch   6 Batch   20/269 - Train Accuracy: 0.9761, Validation Accuracy: 0.9684, Loss: 0.0175\n",
      "Epoch   6 Batch   30/269 - Train Accuracy: 0.9784, Validation Accuracy: 0.9646, Loss: 0.0184\n",
      "Epoch   6 Batch   40/269 - Train Accuracy: 0.9812, Validation Accuracy: 0.9671, Loss: 0.0204\n",
      "Epoch   6 Batch   50/269 - Train Accuracy: 0.9709, Validation Accuracy: 0.9727, Loss: 0.0208\n",
      "Epoch   6 Batch   60/269 - Train Accuracy: 0.9714, Validation Accuracy: 0.9733, Loss: 0.0164\n",
      "Epoch   6 Batch   70/269 - Train Accuracy: 0.9814, Validation Accuracy: 0.9654, Loss: 0.0161\n",
      "Epoch   6 Batch   80/269 - Train Accuracy: 0.9756, Validation Accuracy: 0.9704, Loss: 0.0156\n",
      "Epoch   6 Batch   90/269 - Train Accuracy: 0.9743, Validation Accuracy: 0.9702, Loss: 0.0176\n",
      "Epoch   6 Batch  100/269 - Train Accuracy: 0.9684, Validation Accuracy: 0.9695, Loss: 0.0185\n",
      "Epoch   6 Batch  110/269 - Train Accuracy: 0.9787, Validation Accuracy: 0.9679, Loss: 0.0148\n",
      "Epoch   6 Batch  120/269 - Train Accuracy: 0.9662, Validation Accuracy: 0.9609, Loss: 0.0180\n",
      "Epoch   6 Batch  130/269 - Train Accuracy: 0.9721, Validation Accuracy: 0.9668, Loss: 0.0189\n",
      "Epoch   6 Batch  140/269 - Train Accuracy: 0.9781, Validation Accuracy: 0.9743, Loss: 0.0166\n",
      "Epoch   6 Batch  150/269 - Train Accuracy: 0.9780, Validation Accuracy: 0.9724, Loss: 0.0158\n",
      "Epoch   6 Batch  160/269 - Train Accuracy: 0.9837, Validation Accuracy: 0.9688, Loss: 0.0157\n",
      "Epoch   6 Batch  170/269 - Train Accuracy: 0.9776, Validation Accuracy: 0.9705, Loss: 0.0145\n",
      "Epoch   6 Batch  180/269 - Train Accuracy: 0.9843, Validation Accuracy: 0.9731, Loss: 0.0129\n",
      "Epoch   6 Batch  190/269 - Train Accuracy: 0.9829, Validation Accuracy: 0.9667, Loss: 0.0152\n",
      "Epoch   6 Batch  200/269 - Train Accuracy: 0.9856, Validation Accuracy: 0.9682, Loss: 0.0122\n",
      "Epoch   6 Batch  210/269 - Train Accuracy: 0.9802, Validation Accuracy: 0.9703, Loss: 0.0138\n",
      "Epoch   6 Batch  220/269 - Train Accuracy: 0.9807, Validation Accuracy: 0.9729, Loss: 0.0140\n",
      "Epoch   6 Batch  230/269 - Train Accuracy: 0.9857, Validation Accuracy: 0.9759, Loss: 0.0141\n",
      "Epoch   6 Batch  240/269 - Train Accuracy: 0.9834, Validation Accuracy: 0.9661, Loss: 0.0124\n",
      "Epoch   6 Batch  250/269 - Train Accuracy: 0.9800, Validation Accuracy: 0.9713, Loss: 0.0144\n",
      "Epoch   6 Batch  260/269 - Train Accuracy: 0.9801, Validation Accuracy: 0.9730, Loss: 0.0157\n",
      "Epoch   7 Batch   10/269 - Train Accuracy: 0.9891, Validation Accuracy: 0.9690, Loss: 0.0125\n",
      "Epoch   7 Batch   20/269 - Train Accuracy: 0.9764, Validation Accuracy: 0.9665, Loss: 0.0163\n",
      "Epoch   7 Batch   30/269 - Train Accuracy: 0.9731, Validation Accuracy: 0.9615, Loss: 0.0203\n",
      "Epoch   7 Batch   40/269 - Train Accuracy: 0.9778, Validation Accuracy: 0.9586, Loss: 0.0186\n",
      "Epoch   7 Batch   50/269 - Train Accuracy: 0.9771, Validation Accuracy: 0.9777, Loss: 0.0183\n",
      "Epoch   7 Batch   60/269 - Train Accuracy: 0.9790, Validation Accuracy: 0.9734, Loss: 0.0134\n",
      "Epoch   7 Batch   70/269 - Train Accuracy: 0.9877, Validation Accuracy: 0.9656, Loss: 0.0129\n",
      "Epoch   7 Batch   80/269 - Train Accuracy: 0.9850, Validation Accuracy: 0.9713, Loss: 0.0122\n",
      "Epoch   7 Batch   90/269 - Train Accuracy: 0.9815, Validation Accuracy: 0.9743, Loss: 0.0143\n",
      "Epoch   7 Batch  100/269 - Train Accuracy: 0.9856, Validation Accuracy: 0.9751, Loss: 0.0150\n",
      "Epoch   7 Batch  110/269 - Train Accuracy: 0.9820, Validation Accuracy: 0.9715, Loss: 0.0122\n",
      "Epoch   7 Batch  120/269 - Train Accuracy: 0.9807, Validation Accuracy: 0.9682, Loss: 0.0141\n",
      "Epoch   7 Batch  130/269 - Train Accuracy: 0.9775, Validation Accuracy: 0.9730, Loss: 0.0141\n",
      "Epoch   7 Batch  140/269 - Train Accuracy: 0.9864, Validation Accuracy: 0.9755, Loss: 0.0145\n",
      "Epoch   7 Batch  150/269 - Train Accuracy: 0.9808, Validation Accuracy: 0.9772, Loss: 0.0140\n",
      "Epoch   7 Batch  160/269 - Train Accuracy: 0.9837, Validation Accuracy: 0.9784, Loss: 0.0128\n",
      "Epoch   7 Batch  170/269 - Train Accuracy: 0.9822, Validation Accuracy: 0.9756, Loss: 0.0128\n",
      "Epoch   7 Batch  180/269 - Train Accuracy: 0.9839, Validation Accuracy: 0.9769, Loss: 0.0129\n",
      "Epoch   7 Batch  190/269 - Train Accuracy: 0.9839, Validation Accuracy: 0.9631, Loss: 0.0128\n",
      "Epoch   7 Batch  200/269 - Train Accuracy: 0.9866, Validation Accuracy: 0.9656, Loss: 0.0100\n",
      "Epoch   7 Batch  210/269 - Train Accuracy: 0.9905, Validation Accuracy: 0.9731, Loss: 0.0111\n",
      "Epoch   7 Batch  220/269 - Train Accuracy: 0.9794, Validation Accuracy: 0.9688, Loss: 0.0124\n",
      "Epoch   7 Batch  230/269 - Train Accuracy: 0.9779, Validation Accuracy: 0.9732, Loss: 0.0125\n",
      "Epoch   7 Batch  240/269 - Train Accuracy: 0.9857, Validation Accuracy: 0.9762, Loss: 0.0102\n",
      "Epoch   7 Batch  250/269 - Train Accuracy: 0.9808, Validation Accuracy: 0.9713, Loss: 0.0127\n",
      "Epoch   7 Batch  260/269 - Train Accuracy: 0.9862, Validation Accuracy: 0.9765, Loss: 0.0129\n",
      "Epoch   8 Batch   10/269 - Train Accuracy: 0.9938, Validation Accuracy: 0.9785, Loss: 0.0087\n",
      "Epoch   8 Batch   20/269 - Train Accuracy: 0.9853, Validation Accuracy: 0.9721, Loss: 0.0116\n",
      "Epoch   8 Batch   30/269 - Train Accuracy: 0.9813, Validation Accuracy: 0.9695, Loss: 0.0129\n",
      "Epoch   8 Batch   40/269 - Train Accuracy: 0.9821, Validation Accuracy: 0.9780, Loss: 0.0134\n",
      "Epoch   8 Batch   50/269 - Train Accuracy: 0.9812, Validation Accuracy: 0.9821, Loss: 0.0143\n",
      "Epoch   8 Batch   60/269 - Train Accuracy: 0.9902, Validation Accuracy: 0.9790, Loss: 0.0104\n",
      "Epoch   8 Batch   70/269 - Train Accuracy: 0.9844, Validation Accuracy: 0.9730, Loss: 0.0106\n",
      "Epoch   8 Batch   80/269 - Train Accuracy: 0.9897, Validation Accuracy: 0.9745, Loss: 0.0104\n",
      "Epoch   8 Batch   90/269 - Train Accuracy: 0.9795, Validation Accuracy: 0.9729, Loss: 0.0119\n",
      "Epoch   8 Batch  100/269 - Train Accuracy: 0.9818, Validation Accuracy: 0.9682, Loss: 0.0127\n",
      "Epoch   8 Batch  110/269 - Train Accuracy: 0.9863, Validation Accuracy: 0.9799, Loss: 0.0103\n",
      "Epoch   8 Batch  120/269 - Train Accuracy: 0.9844, Validation Accuracy: 0.9769, Loss: 0.0128\n",
      "Epoch   8 Batch  130/269 - Train Accuracy: 0.9886, Validation Accuracy: 0.9738, Loss: 0.0118\n",
      "Epoch   8 Batch  140/269 - Train Accuracy: 0.9852, Validation Accuracy: 0.9638, Loss: 0.0112\n",
      "Epoch   8 Batch  150/269 - Train Accuracy: 0.9841, Validation Accuracy: 0.9732, Loss: 0.0123\n",
      "Epoch   8 Batch  160/269 - Train Accuracy: 0.9884, Validation Accuracy: 0.9728, Loss: 0.0115\n",
      "Epoch   8 Batch  170/269 - Train Accuracy: 0.9808, Validation Accuracy: 0.9683, Loss: 0.0122\n",
      "Epoch   8 Batch  180/269 - Train Accuracy: 0.9888, Validation Accuracy: 0.9735, Loss: 0.0102\n",
      "Epoch   8 Batch  190/269 - Train Accuracy: 0.9867, Validation Accuracy: 0.9755, Loss: 0.0106\n",
      "Epoch   8 Batch  200/269 - Train Accuracy: 0.9921, Validation Accuracy: 0.9735, Loss: 0.0078\n",
      "Epoch   8 Batch  210/269 - Train Accuracy: 0.9872, Validation Accuracy: 0.9780, Loss: 0.0087\n",
      "Epoch   8 Batch  220/269 - Train Accuracy: 0.9918, Validation Accuracy: 0.9727, Loss: 0.0089\n",
      "Epoch   8 Batch  230/269 - Train Accuracy: 0.9916, Validation Accuracy: 0.9743, Loss: 0.0092\n",
      "Epoch   8 Batch  240/269 - Train Accuracy: 0.9868, Validation Accuracy: 0.9729, Loss: 0.0091\n",
      "Epoch   8 Batch  250/269 - Train Accuracy: 0.9866, Validation Accuracy: 0.9747, Loss: 0.0096\n",
      "Epoch   8 Batch  260/269 - Train Accuracy: 0.9808, Validation Accuracy: 0.9737, Loss: 0.0114\n",
      "Epoch   9 Batch   10/269 - Train Accuracy: 0.9894, Validation Accuracy: 0.9799, Loss: 0.0069\n",
      "Epoch   9 Batch   20/269 - Train Accuracy: 0.9904, Validation Accuracy: 0.9762, Loss: 0.0099\n",
      "Epoch   9 Batch   30/269 - Train Accuracy: 0.9898, Validation Accuracy: 0.9767, Loss: 0.0127\n",
      "Epoch   9 Batch   40/269 - Train Accuracy: 0.9845, Validation Accuracy: 0.9783, Loss: 0.0106\n",
      "Epoch   9 Batch   50/269 - Train Accuracy: 0.9891, Validation Accuracy: 0.9748, Loss: 0.0113\n",
      "Epoch   9 Batch   60/269 - Train Accuracy: 0.9882, Validation Accuracy: 0.9818, Loss: 0.0091\n",
      "Epoch   9 Batch   70/269 - Train Accuracy: 0.9891, Validation Accuracy: 0.9792, Loss: 0.0087\n",
      "Epoch   9 Batch   80/269 - Train Accuracy: 0.9873, Validation Accuracy: 0.9773, Loss: 0.0080\n",
      "Epoch   9 Batch   90/269 - Train Accuracy: 0.9826, Validation Accuracy: 0.9767, Loss: 0.0099\n",
      "Epoch   9 Batch  100/269 - Train Accuracy: 0.9874, Validation Accuracy: 0.9722, Loss: 0.0108\n",
      "Epoch   9 Batch  110/269 - Train Accuracy: 0.9904, Validation Accuracy: 0.9817, Loss: 0.0071\n",
      "Epoch   9 Batch  120/269 - Train Accuracy: 0.9908, Validation Accuracy: 0.9808, Loss: 0.0107\n",
      "Epoch   9 Batch  130/269 - Train Accuracy: 0.9923, Validation Accuracy: 0.9786, Loss: 0.0098\n",
      "Epoch   9 Batch  140/269 - Train Accuracy: 0.9857, Validation Accuracy: 0.9702, Loss: 0.0098\n",
      "Epoch   9 Batch  150/269 - Train Accuracy: 0.9900, Validation Accuracy: 0.9709, Loss: 0.0097\n",
      "Epoch   9 Batch  160/269 - Train Accuracy: 0.9855, Validation Accuracy: 0.9761, Loss: 0.0087\n",
      "Epoch   9 Batch  170/269 - Train Accuracy: 0.9857, Validation Accuracy: 0.9716, Loss: 0.0107\n",
      "Epoch   9 Batch  180/269 - Train Accuracy: 0.9893, Validation Accuracy: 0.9767, Loss: 0.0090\n",
      "Epoch   9 Batch  190/269 - Train Accuracy: 0.9871, Validation Accuracy: 0.9769, Loss: 0.0097\n",
      "Epoch   9 Batch  200/269 - Train Accuracy: 0.9925, Validation Accuracy: 0.9734, Loss: 0.0069\n",
      "Epoch   9 Batch  210/269 - Train Accuracy: 0.9908, Validation Accuracy: 0.9664, Loss: 0.0082\n",
      "Epoch   9 Batch  220/269 - Train Accuracy: 0.9903, Validation Accuracy: 0.9778, Loss: 0.0090\n",
      "Epoch   9 Batch  230/269 - Train Accuracy: 0.9888, Validation Accuracy: 0.9757, Loss: 0.0090\n",
      "Epoch   9 Batch  240/269 - Train Accuracy: 0.9923, Validation Accuracy: 0.9695, Loss: 0.0077\n",
      "Epoch   9 Batch  250/269 - Train Accuracy: 0.9915, Validation Accuracy: 0.9769, Loss: 0.0093\n",
      "Epoch   9 Batch  260/269 - Train Accuracy: 0.9834, Validation Accuracy: 0.9668, Loss: 0.0095\n",
      "Model Trained and Saved\n"
     ]
    }
   ],
   "source": [
    "\"\"\"\n",
    "DON'T MODIFY ANYTHING IN THIS CELL\n",
    "\"\"\"\n",
    "def get_accuracy(target, logits):\n",
    "    \"\"\"\n",
    "    Calculate accuracy\n",
    "    \"\"\"\n",
    "    max_seq = max(target.shape[1], logits.shape[1])\n",
    "    if max_seq - target.shape[1]:\n",
    "        target = np.pad(\n",
    "            target,\n",
    "            [(0,0),(0,max_seq - target.shape[1])],\n",
    "            'constant')\n",
    "    if max_seq - logits.shape[1]:\n",
    "        logits = np.pad(\n",
    "            logits,\n",
    "            [(0,0),(0,max_seq - logits.shape[1])],\n",
    "            'constant')\n",
    "\n",
    "    return np.mean(np.equal(target, logits))\n",
    "\n",
    "# Split data to training and validation sets\n",
    "train_source = source_int_text[batch_size:]\n",
    "train_target = target_int_text[batch_size:]\n",
    "valid_source = source_int_text[:batch_size]\n",
    "valid_target = target_int_text[:batch_size]\n",
    "(valid_sources_batch, valid_targets_batch, valid_sources_lengths, valid_targets_lengths ) = next(get_batches(valid_source,\n",
    "                                                                                                             valid_target,\n",
    "                                                                                                             batch_size,\n",
    "                                                                                                             source_vocab_to_int['<PAD>'],\n",
    "                                                                                                             target_vocab_to_int['<PAD>']))                                                                                                  \n",
    "with tf.Session(graph=train_graph) as sess:\n",
    "    sess.run(tf.global_variables_initializer())\n",
    "\n",
    "    for epoch_i in range(epochs):\n",
    "        for batch_i, (source_batch, target_batch, sources_lengths, targets_lengths) in enumerate(\n",
    "                get_batches(train_source, train_target, batch_size,\n",
    "                            source_vocab_to_int['<PAD>'],\n",
    "                            target_vocab_to_int['<PAD>'])):\n",
    "\n",
    "            _, loss = sess.run(\n",
    "                [train_op, cost],\n",
    "                {input_data: source_batch,\n",
    "                 targets: target_batch,\n",
    "                 lr: learning_rate,\n",
    "                 target_sequence_length: targets_lengths,\n",
    "                 source_sequence_length: sources_lengths,\n",
    "                 keep_prob: keep_probability})\n",
    "\n",
    "\n",
    "            if batch_i % display_step == 0 and batch_i > 0:\n",
    "\n",
    "\n",
    "                batch_train_logits = sess.run(\n",
    "                    inference_logits,\n",
    "                    {input_data: source_batch,\n",
    "                     source_sequence_length: sources_lengths,\n",
    "                     target_sequence_length: targets_lengths,\n",
    "                     keep_prob: 1.0})\n",
    "\n",
    "\n",
    "                batch_valid_logits = sess.run(\n",
    "                    inference_logits,\n",
    "                    {input_data: valid_sources_batch,\n",
    "                     source_sequence_length: valid_sources_lengths,\n",
    "                     target_sequence_length: valid_targets_lengths,\n",
    "                     keep_prob: 1.0})\n",
    "\n",
    "                train_acc = get_accuracy(target_batch, batch_train_logits)\n",
    "\n",
    "                valid_acc = get_accuracy(valid_targets_batch, batch_valid_logits)\n",
    "\n",
    "                print('Epoch {:>3} Batch {:>4}/{} - Train Accuracy: {:>6.4f}, Validation Accuracy: {:>6.4f}, Loss: {:>6.4f}'\n",
    "                      .format(epoch_i, batch_i, len(source_int_text) // batch_size, train_acc, valid_acc, loss))\n",
    "\n",
    "    # Save Model\n",
    "    saver = tf.train.Saver()\n",
    "    saver.save(sess, save_path)\n",
    "    print('Model Trained and Saved')"
   ]
  },
  {
   "cell_type": "markdown",
   "metadata": {
    "deletable": true,
    "editable": true
   },
   "source": [
    "### Save Parameters\n",
    "Save the `batch_size` and `save_path` parameters for inference."
   ]
  },
  {
   "cell_type": "code",
   "execution_count": 18,
   "metadata": {
    "collapsed": true,
    "deletable": true,
    "editable": true
   },
   "outputs": [],
   "source": [
    "\"\"\"\n",
    "DON'T MODIFY ANYTHING IN THIS CELL\n",
    "\"\"\"\n",
    "# Save parameters for checkpoint\n",
    "helper.save_params(save_path)"
   ]
  },
  {
   "cell_type": "markdown",
   "metadata": {
    "deletable": true,
    "editable": true
   },
   "source": [
    "# Checkpoint"
   ]
  },
  {
   "cell_type": "code",
   "execution_count": 19,
   "metadata": {
    "collapsed": true,
    "deletable": true,
    "editable": true
   },
   "outputs": [],
   "source": [
    "\"\"\"\n",
    "DON'T MODIFY ANYTHING IN THIS CELL\n",
    "\"\"\"\n",
    "import tensorflow as tf\n",
    "import numpy as np\n",
    "import helper\n",
    "import problem_unittests as tests\n",
    "\n",
    "_, (source_vocab_to_int, target_vocab_to_int), (source_int_to_vocab, target_int_to_vocab) = helper.load_preprocess()\n",
    "load_path = helper.load_params()"
   ]
  },
  {
   "cell_type": "markdown",
   "metadata": {
    "deletable": true,
    "editable": true
   },
   "source": [
    "## Sentence to Sequence\n",
    "To feed a sentence into the model for translation, you first need to preprocess it.  Implement the function `sentence_to_seq()` to preprocess new sentences.\n",
    "\n",
    "- Convert the sentence to lowercase\n",
    "- Convert words into ids using `vocab_to_int`\n",
    " - Convert words not in the vocabulary, to the `<UNK>` word id."
   ]
  },
  {
   "cell_type": "code",
   "execution_count": 20,
   "metadata": {
    "collapsed": false,
    "deletable": true,
    "editable": true
   },
   "outputs": [
    {
     "name": "stdout",
     "output_type": "stream",
     "text": [
      "Tests Passed\n"
     ]
    }
   ],
   "source": [
    "def sentence_to_seq(sentence, vocab_to_int):\n",
    "    \"\"\"\n",
    "    Convert a sentence to a sequence of ids\n",
    "    :param sentence: String\n",
    "    :param vocab_to_int: Dictionary to go from the words to an id\n",
    "    :return: List of word ids\n",
    "    \"\"\"\n",
    "    # TODO: Implement Function\n",
    "    s = sentence.lower()\n",
    "    default = vocab_to_int[\"<UNK>\"]\n",
    "    word_ids = [vocab_to_int.get(word, default) for word in s.split()]\n",
    "    return word_ids\n",
    "\n",
    "\n",
    "\"\"\"\n",
    "DON'T MODIFY ANYTHING IN THIS CELL THAT IS BELOW THIS LINE\n",
    "\"\"\"\n",
    "tests.test_sentence_to_seq(sentence_to_seq)"
   ]
  },
  {
   "cell_type": "markdown",
   "metadata": {
    "deletable": true,
    "editable": true
   },
   "source": [
    "## Translate\n",
    "This will translate `translate_sentence` from English to French."
   ]
  },
  {
   "cell_type": "code",
   "execution_count": 23,
   "metadata": {
    "collapsed": false,
    "deletable": true,
    "editable": true
   },
   "outputs": [
    {
     "name": "stdout",
     "output_type": "stream",
     "text": [
      "INFO:tensorflow:Restoring parameters from checkpoints/dev\n",
      "Input\n",
      "  Word Ids:      [194, 137, 226, 50, 89, 131, 144, 79, 222]\n",
      "  English Words: ['i', 'sometimes', 'like', 'yellow', 'bananas', 'during', 'the', 'fall', '.']\n",
      "\n",
      "Prediction\n",
      "  Word Ids:      [147, 24, 274, 83, 205, 103, 221, 146, 235, 274, 327, 293, 265, 262, 1]\n",
      "  French Words: les états-unis est beau l' automne , et il est sec en mai . <EOS>\n"
     ]
    }
   ],
   "source": [
    "translate_sentence = 'i sometimes like yellow bananas during the fall .'\n",
    "\n",
    "\n",
    "\"\"\"\n",
    "DON'T MODIFY ANYTHING IN THIS CELL\n",
    "\"\"\"\n",
    "translate_sentence = sentence_to_seq(translate_sentence, source_vocab_to_int)\n",
    "\n",
    "loaded_graph = tf.Graph()\n",
    "with tf.Session(graph=loaded_graph) as sess:\n",
    "    # Load saved model\n",
    "    loader = tf.train.import_meta_graph(load_path + '.meta')\n",
    "    loader.restore(sess, load_path)\n",
    "\n",
    "    input_data = loaded_graph.get_tensor_by_name('input:0')\n",
    "    logits = loaded_graph.get_tensor_by_name('predictions:0')\n",
    "    target_sequence_length = loaded_graph.get_tensor_by_name('target_sequence_length:0')\n",
    "    source_sequence_length = loaded_graph.get_tensor_by_name('source_sequence_length:0')\n",
    "    keep_prob = loaded_graph.get_tensor_by_name('keep_prob:0')\n",
    "\n",
    "    translate_logits = sess.run(logits, {input_data: [translate_sentence]*batch_size,\n",
    "                                         target_sequence_length: [len(translate_sentence)*2]*batch_size,\n",
    "                                         source_sequence_length: [len(translate_sentence)]*batch_size,\n",
    "                                         keep_prob: 1.0})[0]\n",
    "\n",
    "print('Input')\n",
    "print('  Word Ids:      {}'.format([i for i in translate_sentence]))\n",
    "print('  English Words: {}'.format([source_int_to_vocab[i] for i in translate_sentence]))\n",
    "\n",
    "print('\\nPrediction')\n",
    "print('  Word Ids:      {}'.format([i for i in translate_logits]))\n",
    "print('  French Words: {}'.format(\" \".join([target_int_to_vocab[i] for i in translate_logits])))\n"
   ]
  },
  {
   "cell_type": "markdown",
   "metadata": {
    "deletable": true,
    "editable": true
   },
   "source": [
    "## Imperfect Translation\n",
    "You might notice that some sentences translate better than others.  Since the dataset you're using only has a vocabulary of 227 English words of the thousands that you use, you're only going to see good results using these words.  For this project, you don't need a perfect translation. However, if you want to create a better translation model, you'll need better data.\n",
    "\n",
    "You can train on the [WMT10 French-English corpus](http://www.statmt.org/wmt10/training-giga-fren.tar).  This dataset has more vocabulary and richer in topics discussed.  However, this will take you days to train, so make sure you've a GPU and the neural network is performing well on dataset we provided.  Just make sure you play with the WMT10 corpus after you've submitted this project.\n",
    "## Submitting This Project\n",
    "When submitting this project, make sure to run all the cells before saving the notebook. Save the notebook file as \"dlnd_language_translation.ipynb\" and save it as a HTML file under \"File\" -> \"Download as\". Include the \"helper.py\" and \"problem_unittests.py\" files in your submission."
   ]
  }
 ],
 "metadata": {
  "anaconda-cloud": {},
  "kernelspec": {
   "display_name": "Python 3",
   "language": "python",
   "name": "python3"
  },
  "language_info": {
   "codemirror_mode": {
    "name": "ipython",
    "version": 3
   },
   "file_extension": ".py",
   "mimetype": "text/x-python",
   "name": "python",
   "nbconvert_exporter": "python",
   "pygments_lexer": "ipython3",
   "version": "3.5.2"
  },
  "widgets": {
   "state": {},
   "version": "1.1.2"
  }
 },
 "nbformat": 4,
 "nbformat_minor": 1
}
